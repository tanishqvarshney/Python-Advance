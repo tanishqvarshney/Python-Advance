{
 "cells": [
  {
   "cell_type": "markdown",
   "id": "4c013678",
   "metadata": {},
   "source": [
    "# ANS 1"
   ]
  },
  {
   "cell_type": "markdown",
   "id": "3e5537c5",
   "metadata": {},
   "source": [
    "A=A+1 evaluates to finding A, adding 1 to it. Then storing the value again in variable A. This expression makes Python to look for memory holder of a twice. But A+=1 simply means value of A is to incremented by 1. As memory address has to be identified once, += leads to faster operation."
   ]
  },
  {
   "cell_type": "markdown",
   "id": "fca513d0",
   "metadata": {},
   "source": [
    "# ANS 2"
   ]
  },
  {
   "cell_type": "markdown",
   "id": "09eba87c",
   "metadata": {},
   "source": [
    "Minimum number of lines required to write above code in languages other Python will be 4, two for assigning initial values for variables a and b, and two for reassignment i.e. a=a+b and b=a."
   ]
  },
  {
   "cell_type": "markdown",
   "id": "9dec7d52",
   "metadata": {},
   "source": [
    "# ANS 3"
   ]
  },
  {
   "cell_type": "markdown",
   "id": "e8932834",
   "metadata": {},
   "source": [
    "The Most effective way to set a list of 100 integers to 0 in python is by using repition operator(*) or by using list comprehension."
   ]
  },
  {
   "cell_type": "code",
   "execution_count": 6,
   "id": "0dd91c4c",
   "metadata": {},
   "outputs": [
    {
     "name": "stdout",
     "output_type": "stream",
     "text": [
      "first method :  [0, 0, 0, 0, 0, 0, 0, 0, 0, 0, 0, 0, 0, 0, 0, 0, 0, 0, 0, 0, 0, 0, 0, 0, 0, 0, 0, 0, 0, 0, 0, 0, 0, 0, 0, 0, 0, 0, 0, 0, 0, 0, 0, 0, 0, 0, 0, 0, 0, 0, 0, 0, 0, 0, 0, 0, 0, 0, 0, 0, 0, 0, 0, 0, 0, 0, 0, 0, 0, 0, 0, 0, 0, 0, 0, 0, 0, 0, 0, 0, 0, 0, 0, 0, 0, 0, 0, 0, 0, 0, 0, 0, 0, 0, 0, 0, 0, 0, 0, 0]\n",
      "second method :  [0, 0, 0, 0, 0, 0, 0, 0, 0, 0, 0, 0, 0, 0, 0, 0, 0, 0, 0, 0, 0, 0, 0, 0, 0, 0, 0, 0, 0, 0, 0, 0, 0, 0, 0, 0, 0, 0, 0, 0, 0, 0, 0, 0, 0, 0, 0, 0, 0, 0, 0, 0, 0, 0, 0, 0, 0, 0, 0, 0, 0, 0, 0, 0, 0, 0, 0, 0, 0, 0, 0, 0, 0, 0, 0, 0, 0, 0, 0, 0, 0, 0, 0, 0, 0, 0, 0, 0, 0, 0, 0, 0, 0, 0, 0, 0, 0, 0, 0, 0]\n"
     ]
    }
   ],
   "source": [
    "list_zero=[0]*100\n",
    "print(\"first method : \",list_zero)\n",
    "# OR\n",
    "zero_list = [0 for x in range(100)]\n",
    "print(\"second method : \",zero_list)"
   ]
  },
  {
   "cell_type": "markdown",
   "id": "8b7a8f5a",
   "metadata": {},
   "source": [
    "# ANS 4"
   ]
  },
  {
   "cell_type": "code",
   "execution_count": 7,
   "id": "7c92f3a8",
   "metadata": {},
   "outputs": [
    {
     "name": "stdout",
     "output_type": "stream",
     "text": [
      "[1, 2, 3, 1, 2, 3, 1, 2, 3, 1, 2, 3, 1, 2, 3, 1, 2, 3, 1, 2, 3, 1, 2, 3, 1, 2, 3, 1, 2, 3, 1, 2, 3, 1, 2, 3, 1, 2, 3, 1, 2, 3, 1, 2, 3, 1, 2, 3, 1, 2, 3, 1, 2, 3, 1, 2, 3, 1, 2, 3, 1, 2, 3, 1, 2, 3, 1, 2, 3, 1, 2, 3, 1, 2, 3, 1, 2, 3, 1, 2, 3, 1, 2, 3, 1, 2, 3, 1, 2, 3, 1, 2, 3, 1, 2, 3, 1, 2, 3]\n"
     ]
    }
   ],
   "source": [
    "my_list = [1,2,3]*33\n",
    "print(my_list)"
   ]
  },
  {
   "cell_type": "markdown",
   "id": "c2f5a501",
   "metadata": {},
   "source": [
    "# ANS 5"
   ]
  },
  {
   "cell_type": "code",
   "execution_count": 8,
   "id": "cf18b57d",
   "metadata": {},
   "outputs": [
    {
     "name": "stdout",
     "output_type": "stream",
     "text": [
      "1 1 2 2 3 3 4 4 5 5 "
     ]
    }
   ],
   "source": [
    "my_list = [[1,1],[2,2],[3,3],[4,4],[5,5]] \n",
    "for x in range(len(my_list)):\n",
    "    for y in range(len(my_list[x])):\n",
    "        print(my_list[x][y],end=\" \")"
   ]
  },
  {
   "cell_type": "markdown",
   "id": "8c0e7b63",
   "metadata": {},
   "source": [
    "# ANS 6"
   ]
  },
  {
   "cell_type": "markdown",
   "id": "fa961657",
   "metadata": {},
   "source": [
    " List comprehension with string is possible."
   ]
  },
  {
   "cell_type": "code",
   "execution_count": 10,
   "id": "ca770637",
   "metadata": {},
   "outputs": [
    {
     "name": "stdout",
     "output_type": "stream",
     "text": [
      "['T', 'a', 'n', 'i', 's', 'h', 'q']\n"
     ]
    }
   ],
   "source": [
    "my_list = [ele for ele in 'Tanishq']\n",
    "print(my_list)"
   ]
  },
  {
   "cell_type": "markdown",
   "id": "2efda492",
   "metadata": {},
   "source": [
    "# ANS 7"
   ]
  },
  {
   "cell_type": "markdown",
   "id": "17f415c5",
   "metadata": {},
   "source": [
    "Get support with a user-written Python Programme: Start a command prompt (Windows) or terminal window (Linux/Mac). If the current working directory is the same as the location in which you saved the file, you can simply specify the filename as a command-line argument to the Python interpreter.\n",
    "\n",
    "Get support with a User-written Python Program from IDLE: You can also create script files and run them in IDLE. From the Shell window menu, select File → New File. That should open an additional editing window. Type in the code to be executed. From the menu in that window, select File → Save or File → Save As… and save the file to disk. Then select Run → Run Module. The output should appear back in the interpreter"
   ]
  },
  {
   "cell_type": "markdown",
   "id": "ae0de036",
   "metadata": {},
   "source": [
    "# ANS 8"
   ]
  },
  {
   "cell_type": "markdown",
   "id": "2f9f1c4a",
   "metadata": {},
   "source": [
    "The tasks which can be performed with the functions in python are:\n",
    "\n",
    "- A function is an instance of the Object type.\n",
    "- You can store the function in a variable.\n",
    "- You can pass the function as a parameter to another function.\n",
    "- You can return the function from a function.\n",
    "- You can store them in data structures such as hash tables, lists,"
   ]
  },
  {
   "cell_type": "markdown",
   "id": "df341773",
   "metadata": {},
   "source": [
    "# ANS 9"
   ]
  },
  {
   "cell_type": "markdown",
   "id": "c86eab1b",
   "metadata": {},
   "source": [
    "Wrappers Around the functions are known as Decrators."
   ]
  },
  {
   "cell_type": "markdown",
   "id": "d8e2916b",
   "metadata": {},
   "source": [
    "# ANS 10"
   ]
  },
  {
   "cell_type": "markdown",
   "id": "9e47c54b",
   "metadata": {},
   "source": [
    "Generator functions are a special kind of function that return a lazy iterator. These are objects that you can loop over like a list. However, unlike lists, lazy iterators do not store their contents in memory."
   ]
  },
  {
   "cell_type": "markdown",
   "id": "2485d667",
   "metadata": {},
   "source": [
    "# ANS 11"
   ]
  },
  {
   "cell_type": "markdown",
   "id": "aef3b54d",
   "metadata": {},
   "source": [
    "Generator is a written as normal function but uses yield keyword to return values instead of return keyword."
   ]
  },
  {
   "cell_type": "markdown",
   "id": "1f96d3a7",
   "metadata": {},
   "source": [
    "# ANS 12"
   ]
  },
  {
   "cell_type": "markdown",
   "id": "890ff3e9",
   "metadata": {},
   "source": [
    "return statement sends a specified value back to its caller whereas yield statment can produce a sequence of values. We should use generator when we want to iterate over a sequence, but don’t want to store the entire sequence in memory."
   ]
  }
 ],
 "metadata": {
  "kernelspec": {
   "display_name": "Python 3 (ipykernel)",
   "language": "python",
   "name": "python3"
  },
  "language_info": {
   "codemirror_mode": {
    "name": "ipython",
    "version": 3
   },
   "file_extension": ".py",
   "mimetype": "text/x-python",
   "name": "python",
   "nbconvert_exporter": "python",
   "pygments_lexer": "ipython3",
   "version": "3.9.12"
  }
 },
 "nbformat": 4,
 "nbformat_minor": 5
}
