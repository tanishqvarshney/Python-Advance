{
 "cells": [
  {
   "cell_type": "markdown",
   "id": "cf8aaeea",
   "metadata": {},
   "source": [
    "# ANS 1"
   ]
  },
  {
   "cell_type": "markdown",
   "id": "435939da",
   "metadata": {},
   "source": [
    "A probability distribution describes how a random variable is distributed.\n",
    "\n",
    "It tells us which values a random variable is most likely to take on and which values are less likely. Based on the previous data and the occurences of the random event, we can predict the outcome in terms of probabilities."
   ]
  },
  {
   "cell_type": "markdown",
   "id": "1afd6ab9",
   "metadata": {},
   "source": [
    "# ANS 2"
   ]
  },
  {
   "cell_type": "markdown",
   "id": "63d153cb",
   "metadata": {},
   "source": [
    "True Random Numbers are true physical values while pseudo-random numbers are generated internally by a program . Latter is considered good enough as they have sort of uniform distribution."
   ]
  },
  {
   "cell_type": "markdown",
   "id": "a0737452",
   "metadata": {},
   "source": [
    "# ANS 3"
   ]
  },
  {
   "cell_type": "markdown",
   "id": "74d40f54",
   "metadata": {},
   "source": [
    " Normal Probability Distribution are influenced by two factors mean and the variance."
   ]
  },
  {
   "cell_type": "markdown",
   "id": "c6e2dfb4",
   "metadata": {},
   "source": [
    "# ANS 4"
   ]
  },
  {
   "cell_type": "markdown",
   "id": "1694b980",
   "metadata": {},
   "source": [
    "A Real-life example of a normal distribution are heights or blood pressure measurements"
   ]
  },
  {
   "cell_type": "markdown",
   "id": "10fea57e",
   "metadata": {},
   "source": [
    "# ANS 5"
   ]
  },
  {
   "cell_type": "markdown",
   "id": "1049ea2f",
   "metadata": {},
   "source": [
    "Variance will decrease with number of trials"
   ]
  },
  {
   "cell_type": "markdown",
   "id": "3d16bae1",
   "metadata": {},
   "source": [
    "# ANS 6"
   ]
  },
  {
   "cell_type": "markdown",
   "id": "f15e482f",
   "metadata": {},
   "source": [
    "lists (list), strings (str) and tuples (tuple) objects can be shuffled by using random.shuffle."
   ]
  },
  {
   "cell_type": "markdown",
   "id": "5c0650ee",
   "metadata": {},
   "source": [
    "# ANS 7"
   ]
  },
  {
   "cell_type": "markdown",
   "id": "f6f03e29",
   "metadata": {},
   "source": [
    "The Math package's general categories of functions are:\n",
    "\n",
    "- Trigonometric functions\n",
    "- Quadratic functions\n",
    "- Exponential functions\n",
    "- Hyperbolic functions\n",
    "- Periodic functions\n",
    "- Arithmetic functions\n",
    "- Logarithimic functions\n",
    "- Conversions to Integer"
   ]
  },
  {
   "cell_type": "markdown",
   "id": "5c0fd405",
   "metadata": {},
   "source": [
    "# ANS 8"
   ]
  },
  {
   "cell_type": "markdown",
   "id": "bf37a87f",
   "metadata": {},
   "source": [
    "Exponentiation and logarithms are inverse of each other."
   ]
  },
  {
   "cell_type": "markdown",
   "id": "3be93e4e",
   "metadata": {},
   "source": [
    "# ANS 9"
   ]
  },
  {
   "cell_type": "markdown",
   "id": "840a5af2",
   "metadata": {},
   "source": [
    "The Three Logarithmic Functions that Python supports are:\n",
    "\n",
    "- log2(x) - logarithmic value of x to base 2\n",
    "- log10(x) - logarithmic value of x to base 10\n",
    "- log1p(a) - This function is used to compute logarithm(1+a) ."
   ]
  }
 ],
 "metadata": {
  "kernelspec": {
   "display_name": "Python 3 (ipykernel)",
   "language": "python",
   "name": "python3"
  },
  "language_info": {
   "codemirror_mode": {
    "name": "ipython",
    "version": 3
   },
   "file_extension": ".py",
   "mimetype": "text/x-python",
   "name": "python",
   "nbconvert_exporter": "python",
   "pygments_lexer": "ipython3",
   "version": "3.9.12"
  }
 },
 "nbformat": 4,
 "nbformat_minor": 5
}
