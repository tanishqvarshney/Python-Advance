{
 "cells": [
  {
   "cell_type": "markdown",
   "id": "86e18344",
   "metadata": {},
   "source": [
    "# ANS 1"
   ]
  },
  {
   "cell_type": "markdown",
   "id": "dfd4ba7e",
   "metadata": {},
   "source": [
    "The differences between Text Files and Binary Files are:\n",
    "\n",
    "Text files are special subset of binary files that are used to store human readable characters as a rich text document or plain text document. Text files also store data in sequential bytes but bits in text file represents characters.\n",
    "\n",
    "Binary files are those typical files that store data in the form of sequence of bytes grouped into eight bits or sometimes sixteen bits. These bits represent custom data and such files can store multiple types of data (images, audio, text, etc) under a single file."
   ]
  },
  {
   "cell_type": "markdown",
   "id": "c716ec94",
   "metadata": {},
   "source": [
    "# ANS 2"
   ]
  },
  {
   "cell_type": "markdown",
   "id": "68ba1e16",
   "metadata": {},
   "source": [
    "Text files are less prone to get corrupted as any undesired change may just show up once the file is opened and then can easily be removed. Whereas Use binary files instead of text files for image data."
   ]
  },
  {
   "cell_type": "markdown",
   "id": "9a66a4cd",
   "metadata": {},
   "source": [
    "# ANS 3"
   ]
  },
  {
   "cell_type": "markdown",
   "id": "a1dff61a",
   "metadata": {},
   "source": [
    "When we read or write a python integer using binary operations\n",
    "\n",
    "- Binary operations deal with raw data\n",
    "- One needs to identify how many bytes one would read or write."
   ]
  },
  {
   "cell_type": "markdown",
   "id": "aa82d35c",
   "metadata": {},
   "source": [
    "# ANS 4"
   ]
  },
  {
   "cell_type": "markdown",
   "id": "f1f44e49",
   "metadata": {},
   "source": [
    "When a file is opened using the with keyword, if some exceptions occur after opening a file, or at the end of the file it automatically does the closing of the file. There by not leaving an file in open mode and there would no need to explicitly close a file.\n",
    "\n"
   ]
  },
  {
   "cell_type": "markdown",
   "id": "8578a286",
   "metadata": {},
   "source": [
    "# ANS 5"
   ]
  },
  {
   "cell_type": "markdown",
   "id": "98fcc6cb",
   "metadata": {},
   "source": [
    "Yes, Python have the trailing newline while reading a line of text. When we write a newline has to be provided in python excpicitly."
   ]
  },
  {
   "cell_type": "markdown",
   "id": "0b374870",
   "metadata": {},
   "source": [
    "# ANS 6"
   ]
  },
  {
   "cell_type": "markdown",
   "id": "d69ab6e6",
   "metadata": {},
   "source": [
    "The file operations enable for random-access operation are seek() and tell()"
   ]
  },
  {
   "cell_type": "markdown",
   "id": "0d8bea7a",
   "metadata": {},
   "source": [
    "# ANS 7"
   ]
  },
  {
   "cell_type": "markdown",
   "id": "16ea49d8",
   "metadata": {},
   "source": [
    "The struct package is mostly used while converting a common python types into C language types."
   ]
  },
  {
   "cell_type": "markdown",
   "id": "96dbe864",
   "metadata": {},
   "source": [
    "# ANS 8"
   ]
  },
  {
   "cell_type": "markdown",
   "id": "c36a7980",
   "metadata": {},
   "source": [
    " Pickling is best option for creating a new binary file using python."
   ]
  },
  {
   "cell_type": "markdown",
   "id": "0b857e21",
   "metadata": {},
   "source": [
    "# ANS 9"
   ]
  },
  {
   "cell_type": "markdown",
   "id": "eb70cee7",
   "metadata": {},
   "source": [
    "Shelve package is used to pickle data but treats the entire file as dictionary."
   ]
  },
  {
   "cell_type": "markdown",
   "id": "c92dd657",
   "metadata": {},
   "source": [
    "# ANS 10"
   ]
  },
  {
   "cell_type": "markdown",
   "id": "acaf4171",
   "metadata": {},
   "source": [
    "Only string data type can be used as key in this special dictionary object, whereas any picklable Python object can be used as value."
   ]
  }
 ],
 "metadata": {
  "kernelspec": {
   "display_name": "Python 3 (ipykernel)",
   "language": "python",
   "name": "python3"
  },
  "language_info": {
   "codemirror_mode": {
    "name": "ipython",
    "version": 3
   },
   "file_extension": ".py",
   "mimetype": "text/x-python",
   "name": "python",
   "nbconvert_exporter": "python",
   "pygments_lexer": "ipython3",
   "version": "3.9.12"
  }
 },
 "nbformat": 4,
 "nbformat_minor": 5
}
